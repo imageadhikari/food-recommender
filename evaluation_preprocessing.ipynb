{
 "cells": [
  {
   "cell_type": "code",
   "execution_count": 1,
   "id": "b9bb0933",
   "metadata": {},
   "outputs": [],
   "source": [
    "import pandas as pd"
   ]
  },
  {
   "cell_type": "code",
   "execution_count": 2,
   "id": "c081aba3",
   "metadata": {},
   "outputs": [],
   "source": [
    "products_df = pd.read_csv(\"data\\data_processed_gte25\\products.csv\")\n",
    "orders_df = pd.read_csv(\"data\\data_processed_gte25\\orders.csv\")"
   ]
  },
  {
   "cell_type": "code",
   "execution_count": 3,
   "id": "895a932d",
   "metadata": {},
   "outputs": [],
   "source": [
    "orders_df.rename(columns= {'product_list': 'product_id'}, inplace=True)"
   ]
  },
  {
   "cell_type": "code",
   "execution_count": 4,
   "id": "f4241c2d",
   "metadata": {},
   "outputs": [],
   "source": [
    "merged_df = pd.merge(orders_df, products_df, on='product_id', how='left')"
   ]
  },
  {
   "cell_type": "code",
   "execution_count": 5,
   "id": "0bc01f59",
   "metadata": {},
   "outputs": [],
   "source": [
    "merged_df['label'] = 0"
   ]
  },
  {
   "cell_type": "code",
   "execution_count": 6,
   "id": "baff42fa",
   "metadata": {},
   "outputs": [],
   "source": [
    "df1 = merged_df[['product_id', 'order_dow', 'order_hour_of_day', 'product_name', 'aisle_id', 'department_id']].copy()"
   ]
  },
  {
   "cell_type": "code",
   "execution_count": 7,
   "id": "300f02b4",
   "metadata": {},
   "outputs": [],
   "source": [
    "unique_ids = {prod_id: i for i, prod_id in enumerate(df1['product_id'].unique())}\n",
    "unique_aisle = {a_id: j for j, a_id in enumerate(df1['aisle_id'].unique())}\n",
    "\n",
    "df1['unique_product_id'] = df1['product_id'].map(unique_ids)+1\n",
    "df1['unique_aisle_id'] = df1['aisle_id'].map(unique_aisle)+1"
   ]
  },
  {
   "cell_type": "code",
   "execution_count": 8,
   "id": "10288fd1",
   "metadata": {},
   "outputs": [],
   "source": [
    "df2 = df1[['unique_product_id', 'order_dow', 'order_hour_of_day', 'unique_aisle_id', 'department_id','product_name']].copy()"
   ]
  },
  {
   "cell_type": "code",
   "execution_count": 9,
   "id": "53f760d4",
   "metadata": {},
   "outputs": [],
   "source": [
    "df2.rename(columns= {'unique_product_id': 'product_id'}, inplace=True)\n",
    "df2.rename(columns= {'unique_aisle_id': 'aisle_id'}, inplace=True)"
   ]
  },
  {
   "cell_type": "code",
   "execution_count": 10,
   "id": "49e01be7",
   "metadata": {},
   "outputs": [
    {
     "data": {
      "text/html": [
       "<div>\n",
       "<style scoped>\n",
       "    .dataframe tbody tr th:only-of-type {\n",
       "        vertical-align: middle;\n",
       "    }\n",
       "\n",
       "    .dataframe tbody tr th {\n",
       "        vertical-align: top;\n",
       "    }\n",
       "\n",
       "    .dataframe thead th {\n",
       "        text-align: right;\n",
       "    }\n",
       "</style>\n",
       "<table border=\"1\" class=\"dataframe\">\n",
       "  <thead>\n",
       "    <tr style=\"text-align: right;\">\n",
       "      <th></th>\n",
       "      <th>product_id</th>\n",
       "      <th>order_dow</th>\n",
       "      <th>order_hour_of_day</th>\n",
       "      <th>aisle_id</th>\n",
       "      <th>department_id</th>\n",
       "      <th>product_name</th>\n",
       "    </tr>\n",
       "  </thead>\n",
       "  <tbody>\n",
       "    <tr>\n",
       "      <th>0</th>\n",
       "      <td>1</td>\n",
       "      <td>5</td>\n",
       "      <td>9</td>\n",
       "      <td>1</td>\n",
       "      <td>16</td>\n",
       "      <td>Organic Egg Whites</td>\n",
       "    </tr>\n",
       "    <tr>\n",
       "      <th>1</th>\n",
       "      <td>2</td>\n",
       "      <td>5</td>\n",
       "      <td>9</td>\n",
       "      <td>2</td>\n",
       "      <td>4</td>\n",
       "      <td>Carrots</td>\n",
       "    </tr>\n",
       "    <tr>\n",
       "      <th>2</th>\n",
       "      <td>3</td>\n",
       "      <td>5</td>\n",
       "      <td>9</td>\n",
       "      <td>3</td>\n",
       "      <td>13</td>\n",
       "      <td>Garlic Powder</td>\n",
       "    </tr>\n",
       "    <tr>\n",
       "      <th>3</th>\n",
       "      <td>4</td>\n",
       "      <td>5</td>\n",
       "      <td>17</td>\n",
       "      <td>4</td>\n",
       "      <td>16</td>\n",
       "      <td>Unsweetened Chocolate Almond Breeze Almond Milk</td>\n",
       "    </tr>\n",
       "    <tr>\n",
       "      <th>4</th>\n",
       "      <td>5</td>\n",
       "      <td>5</td>\n",
       "      <td>17</td>\n",
       "      <td>4</td>\n",
       "      <td>16</td>\n",
       "      <td>Unsweetened Almondmilk</td>\n",
       "    </tr>\n",
       "    <tr>\n",
       "      <th>...</th>\n",
       "      <td>...</td>\n",
       "      <td>...</td>\n",
       "      <td>...</td>\n",
       "      <td>...</td>\n",
       "      <td>...</td>\n",
       "      <td>...</td>\n",
       "    </tr>\n",
       "    <tr>\n",
       "      <th>323700</th>\n",
       "      <td>934</td>\n",
       "      <td>4</td>\n",
       "      <td>16</td>\n",
       "      <td>36</td>\n",
       "      <td>16</td>\n",
       "      <td>Light Semisoft Cheese</td>\n",
       "    </tr>\n",
       "    <tr>\n",
       "      <th>323701</th>\n",
       "      <td>68</td>\n",
       "      <td>0</td>\n",
       "      <td>13</td>\n",
       "      <td>38</td>\n",
       "      <td>12</td>\n",
       "      <td>Boneless Skinless Chicken Breasts</td>\n",
       "    </tr>\n",
       "    <tr>\n",
       "      <th>323702</th>\n",
       "      <td>316</td>\n",
       "      <td>0</td>\n",
       "      <td>13</td>\n",
       "      <td>41</td>\n",
       "      <td>9</td>\n",
       "      <td>Organic White Basmati Rice</td>\n",
       "    </tr>\n",
       "    <tr>\n",
       "      <th>323703</th>\n",
       "      <td>464</td>\n",
       "      <td>0</td>\n",
       "      <td>13</td>\n",
       "      <td>41</td>\n",
       "      <td>9</td>\n",
       "      <td>Organic Short Grain Brown Rice</td>\n",
       "    </tr>\n",
       "    <tr>\n",
       "      <th>323704</th>\n",
       "      <td>329</td>\n",
       "      <td>0</td>\n",
       "      <td>13</td>\n",
       "      <td>4</td>\n",
       "      <td>16</td>\n",
       "      <td>Original Enriched Rice Drink</td>\n",
       "    </tr>\n",
       "  </tbody>\n",
       "</table>\n",
       "<p>323705 rows × 6 columns</p>\n",
       "</div>"
      ],
      "text/plain": [
       "        product_id  order_dow  order_hour_of_day  aisle_id  department_id  \\\n",
       "0                1          5                  9         1             16   \n",
       "1                2          5                  9         2              4   \n",
       "2                3          5                  9         3             13   \n",
       "3                4          5                 17         4             16   \n",
       "4                5          5                 17         4             16   \n",
       "...            ...        ...                ...       ...            ...   \n",
       "323700         934          4                 16        36             16   \n",
       "323701          68          0                 13        38             12   \n",
       "323702         316          0                 13        41              9   \n",
       "323703         464          0                 13        41              9   \n",
       "323704         329          0                 13         4             16   \n",
       "\n",
       "                                           product_name  \n",
       "0                                    Organic Egg Whites  \n",
       "1                                               Carrots  \n",
       "2                                         Garlic Powder  \n",
       "3       Unsweetened Chocolate Almond Breeze Almond Milk  \n",
       "4                                Unsweetened Almondmilk  \n",
       "...                                                 ...  \n",
       "323700                            Light Semisoft Cheese  \n",
       "323701                Boneless Skinless Chicken Breasts  \n",
       "323702                       Organic White Basmati Rice  \n",
       "323703                   Organic Short Grain Brown Rice  \n",
       "323704                     Original Enriched Rice Drink  \n",
       "\n",
       "[323705 rows x 6 columns]"
      ]
     },
     "execution_count": 10,
     "metadata": {},
     "output_type": "execute_result"
    }
   ],
   "source": [
    "df2"
   ]
  },
  {
   "cell_type": "code",
   "execution_count": 11,
   "id": "dd318537",
   "metadata": {},
   "outputs": [],
   "source": [
    "df2.to_csv(\"data\\eval_dataset.csv\", index=False)"
   ]
  },
  {
   "cell_type": "code",
   "execution_count": null,
   "id": "b46aa11a",
   "metadata": {},
   "outputs": [],
   "source": []
  }
 ],
 "metadata": {
  "kernelspec": {
   "display_name": "Python 3 (ipykernel)",
   "language": "python",
   "name": "python3"
  },
  "language_info": {
   "codemirror_mode": {
    "name": "ipython",
    "version": 3
   },
   "file_extension": ".py",
   "mimetype": "text/x-python",
   "name": "python",
   "nbconvert_exporter": "python",
   "pygments_lexer": "ipython3",
   "version": "3.9.16"
  }
 },
 "nbformat": 4,
 "nbformat_minor": 5
}

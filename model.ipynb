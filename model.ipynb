{
 "cells": [
  {
   "cell_type": "code",
   "execution_count": 1,
   "id": "f900961f",
   "metadata": {},
   "outputs": [],
   "source": [
    "import pandas as pd\n",
    "import numpy as np\n",
    "from sklearn.preprocessing import LabelEncoder, MinMaxScaler\n",
    "from sklearn.metrics import log_loss, roc_auc_score, mean_squared_error\n",
    "from deepctr.models import DeepFM\n",
    "from deepctr.feature_column import SparseFeat, DenseFeat, get_feature_names\n",
    "from sklearn.model_selection import train_test_split\n",
    "from tensorflow.keras.utils import get_custom_objects\n",
    "from deepctr.layers import custom_objects"
   ]
  },
  {
   "cell_type": "code",
   "execution_count": 2,
   "id": "3d972411",
   "metadata": {},
   "outputs": [
    {
     "data": {
      "text/html": [
       "<div>\n",
       "<style scoped>\n",
       "    .dataframe tbody tr th:only-of-type {\n",
       "        vertical-align: middle;\n",
       "    }\n",
       "\n",
       "    .dataframe tbody tr th {\n",
       "        vertical-align: top;\n",
       "    }\n",
       "\n",
       "    .dataframe thead th {\n",
       "        text-align: right;\n",
       "    }\n",
       "</style>\n",
       "<table border=\"1\" class=\"dataframe\">\n",
       "  <thead>\n",
       "    <tr style=\"text-align: right;\">\n",
       "      <th></th>\n",
       "      <th>product_id</th>\n",
       "      <th>order_dow</th>\n",
       "      <th>order_hour_of_day</th>\n",
       "      <th>aisle_id</th>\n",
       "      <th>department_id</th>\n",
       "      <th>target</th>\n",
       "    </tr>\n",
       "  </thead>\n",
       "  <tbody>\n",
       "    <tr>\n",
       "      <th>0</th>\n",
       "      <td>315</td>\n",
       "      <td>0</td>\n",
       "      <td>0</td>\n",
       "      <td>20</td>\n",
       "      <td>1</td>\n",
       "      <td>1</td>\n",
       "    </tr>\n",
       "    <tr>\n",
       "      <th>1</th>\n",
       "      <td>103</td>\n",
       "      <td>0</td>\n",
       "      <td>0</td>\n",
       "      <td>11</td>\n",
       "      <td>4</td>\n",
       "      <td>1</td>\n",
       "    </tr>\n",
       "    <tr>\n",
       "      <th>2</th>\n",
       "      <td>300</td>\n",
       "      <td>0</td>\n",
       "      <td>0</td>\n",
       "      <td>5</td>\n",
       "      <td>4</td>\n",
       "      <td>1</td>\n",
       "    </tr>\n",
       "    <tr>\n",
       "      <th>3</th>\n",
       "      <td>881</td>\n",
       "      <td>0</td>\n",
       "      <td>0</td>\n",
       "      <td>30</td>\n",
       "      <td>3</td>\n",
       "      <td>1</td>\n",
       "    </tr>\n",
       "    <tr>\n",
       "      <th>4</th>\n",
       "      <td>50</td>\n",
       "      <td>0</td>\n",
       "      <td>0</td>\n",
       "      <td>11</td>\n",
       "      <td>4</td>\n",
       "      <td>1</td>\n",
       "    </tr>\n",
       "  </tbody>\n",
       "</table>\n",
       "</div>"
      ],
      "text/plain": [
       "   product_id  order_dow  order_hour_of_day  aisle_id  department_id  target\n",
       "0         315          0                  0        20              1       1\n",
       "1         103          0                  0        11              4       1\n",
       "2         300          0                  0         5              4       1\n",
       "3         881          0                  0        30              3       1\n",
       "4          50          0                  0        11              4       1"
      ]
     },
     "execution_count": 2,
     "metadata": {},
     "output_type": "execute_result"
    }
   ],
   "source": [
    "original_df = pd.read_csv(\"data\\Preprocessed_instacart.csv\")\n",
    "original_df.head()"
   ]
  },
  {
   "cell_type": "code",
   "execution_count": 3,
   "id": "389ea156",
   "metadata": {},
   "outputs": [
    {
     "data": {
      "text/html": [
       "<div>\n",
       "<style scoped>\n",
       "    .dataframe tbody tr th:only-of-type {\n",
       "        vertical-align: middle;\n",
       "    }\n",
       "\n",
       "    .dataframe tbody tr th {\n",
       "        vertical-align: top;\n",
       "    }\n",
       "\n",
       "    .dataframe thead th {\n",
       "        text-align: right;\n",
       "    }\n",
       "</style>\n",
       "<table border=\"1\" class=\"dataframe\">\n",
       "  <thead>\n",
       "    <tr style=\"text-align: right;\">\n",
       "      <th></th>\n",
       "      <th>product_id</th>\n",
       "      <th>order_dow</th>\n",
       "      <th>order_hour_of_day</th>\n",
       "      <th>aisle_id</th>\n",
       "      <th>department_id</th>\n",
       "      <th>target</th>\n",
       "    </tr>\n",
       "  </thead>\n",
       "  <tbody>\n",
       "    <tr>\n",
       "      <th>0</th>\n",
       "      <td>315</td>\n",
       "      <td>0</td>\n",
       "      <td>0</td>\n",
       "      <td>20</td>\n",
       "      <td>1</td>\n",
       "      <td>1</td>\n",
       "    </tr>\n",
       "    <tr>\n",
       "      <th>1</th>\n",
       "      <td>103</td>\n",
       "      <td>0</td>\n",
       "      <td>0</td>\n",
       "      <td>11</td>\n",
       "      <td>4</td>\n",
       "      <td>1</td>\n",
       "    </tr>\n",
       "    <tr>\n",
       "      <th>2</th>\n",
       "      <td>300</td>\n",
       "      <td>0</td>\n",
       "      <td>0</td>\n",
       "      <td>5</td>\n",
       "      <td>4</td>\n",
       "      <td>1</td>\n",
       "    </tr>\n",
       "    <tr>\n",
       "      <th>3</th>\n",
       "      <td>881</td>\n",
       "      <td>0</td>\n",
       "      <td>0</td>\n",
       "      <td>30</td>\n",
       "      <td>3</td>\n",
       "      <td>1</td>\n",
       "    </tr>\n",
       "    <tr>\n",
       "      <th>4</th>\n",
       "      <td>50</td>\n",
       "      <td>0</td>\n",
       "      <td>0</td>\n",
       "      <td>11</td>\n",
       "      <td>4</td>\n",
       "      <td>1</td>\n",
       "    </tr>\n",
       "  </tbody>\n",
       "</table>\n",
       "</div>"
      ],
      "text/plain": [
       "   product_id  order_dow  order_hour_of_day  aisle_id  department_id  target\n",
       "0         315          0                  0        20              1       1\n",
       "1         103          0                  0        11              4       1\n",
       "2         300          0                  0         5              4       1\n",
       "3         881          0                  0        30              3       1\n",
       "4          50          0                  0        11              4       1"
      ]
     },
     "execution_count": 3,
     "metadata": {},
     "output_type": "execute_result"
    }
   ],
   "source": [
    "df = original_df[['product_id', 'order_dow', 'order_hour_of_day', 'aisle_id', 'department_id', 'target']].copy()\n",
    "df.head()"
   ]
  },
  {
   "cell_type": "code",
   "execution_count": 4,
   "id": "5fc95e12",
   "metadata": {},
   "outputs": [
    {
     "name": "stdout",
     "output_type": "stream",
     "text": [
      "<class 'pandas.core.frame.DataFrame'>\n",
      "RangeIndex: 647410 entries, 0 to 647409\n",
      "Data columns (total 6 columns):\n",
      " #   Column             Non-Null Count   Dtype\n",
      "---  ------             --------------   -----\n",
      " 0   product_id         647410 non-null  int64\n",
      " 1   order_dow          647410 non-null  int64\n",
      " 2   order_hour_of_day  647410 non-null  int64\n",
      " 3   aisle_id           647410 non-null  int64\n",
      " 4   department_id      647410 non-null  int64\n",
      " 5   target             647410 non-null  int64\n",
      "dtypes: int64(6)\n",
      "memory usage: 29.6 MB\n"
     ]
    }
   ],
   "source": [
    "df.info()"
   ]
  },
  {
   "cell_type": "code",
   "execution_count": 5,
   "id": "bdce6415",
   "metadata": {},
   "outputs": [
    {
     "data": {
      "text/plain": [
       "2965"
      ]
     },
     "execution_count": 5,
     "metadata": {},
     "output_type": "execute_result"
    }
   ],
   "source": [
    "df['product_id'].nunique()"
   ]
  },
  {
   "cell_type": "markdown",
   "id": "d3f4d753",
   "metadata": {},
   "source": [
    "## Checking for missing values"
   ]
  },
  {
   "cell_type": "code",
   "execution_count": 6,
   "id": "6848c4a1",
   "metadata": {},
   "outputs": [
    {
     "data": {
      "text/plain": [
       "0"
      ]
     },
     "execution_count": 6,
     "metadata": {},
     "output_type": "execute_result"
    }
   ],
   "source": [
    "df['product_id'].isna().sum()"
   ]
  },
  {
   "cell_type": "code",
   "execution_count": 7,
   "id": "fa19f95d",
   "metadata": {},
   "outputs": [
    {
     "data": {
      "text/plain": [
       "0"
      ]
     },
     "execution_count": 7,
     "metadata": {},
     "output_type": "execute_result"
    }
   ],
   "source": [
    "df['order_dow'].isna().sum()"
   ]
  },
  {
   "cell_type": "code",
   "execution_count": 8,
   "id": "9f6d01e4",
   "metadata": {},
   "outputs": [
    {
     "data": {
      "text/plain": [
       "0"
      ]
     },
     "execution_count": 8,
     "metadata": {},
     "output_type": "execute_result"
    }
   ],
   "source": [
    "df['order_hour_of_day'].isna().sum()"
   ]
  },
  {
   "cell_type": "code",
   "execution_count": 9,
   "id": "67b7d1e1",
   "metadata": {},
   "outputs": [
    {
     "data": {
      "text/plain": [
       "0"
      ]
     },
     "execution_count": 9,
     "metadata": {},
     "output_type": "execute_result"
    }
   ],
   "source": [
    "df['aisle_id'].isna().sum()"
   ]
  },
  {
   "cell_type": "code",
   "execution_count": 10,
   "id": "24408794",
   "metadata": {},
   "outputs": [
    {
     "data": {
      "text/plain": [
       "0"
      ]
     },
     "execution_count": 10,
     "metadata": {},
     "output_type": "execute_result"
    }
   ],
   "source": [
    "df['department_id'].isna().sum()"
   ]
  },
  {
   "cell_type": "code",
   "execution_count": 11,
   "id": "3923e1de",
   "metadata": {},
   "outputs": [
    {
     "data": {
      "text/plain": [
       "0"
      ]
     },
     "execution_count": 11,
     "metadata": {},
     "output_type": "execute_result"
    }
   ],
   "source": [
    "df['target'].isna().sum()"
   ]
  },
  {
   "cell_type": "markdown",
   "id": "c90667c3",
   "metadata": {},
   "source": [
    "## Encoding"
   ]
  },
  {
   "cell_type": "code",
   "execution_count": 12,
   "id": "123102fe",
   "metadata": {},
   "outputs": [],
   "source": [
    "sparse_features = ['product_id', 'order_dow', 'order_hour_of_day', 'aisle_id', 'department_id']\n",
    "target = ['target']"
   ]
  },
  {
   "cell_type": "code",
   "execution_count": 13,
   "id": "545a0b94",
   "metadata": {},
   "outputs": [],
   "source": [
    "for feat in sparse_features:\n",
    "    lbe = LabelEncoder()\n",
    "    df[feat] = lbe.fit_transform(df[feat])\n",
    "fixlen_feature_columns = [SparseFeat(feat, df[feat].nunique() + 1, embedding_dim=4)\n",
    "                        for feat in sparse_features]\n",
    "linear_feature_columns = fixlen_feature_columns\n",
    "dnn_feature_columns = fixlen_feature_columns\n",
    "feature_names = get_feature_names(linear_feature_columns + dnn_feature_columns)"
   ]
  },
  {
   "cell_type": "code",
   "execution_count": 14,
   "id": "953956a0",
   "metadata": {},
   "outputs": [],
   "source": [
    "train, test = train_test_split(df, test_size=0.2, random_state=2020)\n",
    "train_model_input = {name: train[name].values for name in feature_names}\n",
    "test_model_input = {name: test[name].values for name in feature_names}"
   ]
  },
  {
   "cell_type": "code",
   "execution_count": 15,
   "id": "202ab9e8",
   "metadata": {},
   "outputs": [
    {
     "data": {
      "text/plain": [
       "({'product_id': array([1837,   49, 2917, ...,  265, 2192,   11], dtype=int64),\n",
       "  'order_dow': array([0, 4, 3, ..., 4, 5, 4], dtype=int64),\n",
       "  'order_hour_of_day': array([ 7, 17, 16, ..., 17, 17, 13], dtype=int64),\n",
       "  'aisle_id': array([69, 10, 11, ...,  0, 30,  7], dtype=int64),\n",
       "  'department_id': array([ 0,  3, 18, ..., 15, 19,  6], dtype=int64)},\n",
       " {'product_id': array([  80,   16,  975, ...,  113,  882, 1659], dtype=int64),\n",
       "  'order_dow': array([2, 6, 0, ..., 3, 4, 5], dtype=int64),\n",
       "  'order_hour_of_day': array([19,  9, 16, ...,  8, 18, 11], dtype=int64),\n",
       "  'aisle_id': array([10,  1, 26, ...,  4, 21, 33], dtype=int64),\n",
       "  'department_id': array([ 3,  3, 17, ...,  3, 15,  0], dtype=int64)})"
      ]
     },
     "execution_count": 15,
     "metadata": {},
     "output_type": "execute_result"
    }
   ],
   "source": [
    "train_model_input, test_model_input"
   ]
  },
  {
   "cell_type": "code",
   "execution_count": 16,
   "id": "ed8a4bff",
   "metadata": {},
   "outputs": [
    {
     "name": "stdout",
     "output_type": "stream",
     "text": [
      "Epoch 1/20\n",
      "4144/4144 - 17s - loss: 0.4435 - binary_crossentropy: 0.4431 - accuracy: 0.7901 - auc: 0.8536 - val_loss: 0.4345 - val_binary_crossentropy: 0.4337 - val_accuracy: 0.7945 - val_auc: 0.8618\n",
      "Epoch 2/20\n",
      "4144/4144 - 15s - loss: 0.4298 - binary_crossentropy: 0.4286 - accuracy: 0.7985 - auc: 0.8641 - val_loss: 0.4300 - val_binary_crossentropy: 0.4285 - val_accuracy: 0.7990 - val_auc: 0.8641\n",
      "Epoch 3/20\n",
      "4144/4144 - 14s - loss: 0.4269 - binary_crossentropy: 0.4250 - accuracy: 0.8009 - auc: 0.8669 - val_loss: 0.4298 - val_binary_crossentropy: 0.4275 - val_accuracy: 0.8000 - val_auc: 0.8660\n",
      "Epoch 4/20\n",
      "4144/4144 - 15s - loss: 0.4216 - binary_crossentropy: 0.4187 - accuracy: 0.8042 - auc: 0.8718 - val_loss: 0.4247 - val_binary_crossentropy: 0.4214 - val_accuracy: 0.8022 - val_auc: 0.8692\n",
      "Epoch 5/20\n",
      "4144/4144 - 15s - loss: 0.4152 - binary_crossentropy: 0.4113 - accuracy: 0.8076 - auc: 0.8772 - val_loss: 0.4236 - val_binary_crossentropy: 0.4193 - val_accuracy: 0.8045 - val_auc: 0.8706\n",
      "Epoch 6/20\n",
      "4144/4144 - 15s - loss: 0.4104 - binary_crossentropy: 0.4055 - accuracy: 0.8103 - auc: 0.8809 - val_loss: 0.4232 - val_binary_crossentropy: 0.4179 - val_accuracy: 0.8053 - val_auc: 0.8711\n",
      "Epoch 7/20\n",
      "4144/4144 - 15s - loss: 0.4079 - binary_crossentropy: 0.4022 - accuracy: 0.8122 - auc: 0.8830 - val_loss: 0.4233 - val_binary_crossentropy: 0.4172 - val_accuracy: 0.8063 - val_auc: 0.8713\n",
      "Epoch 8/20\n",
      "4144/4144 - 14s - loss: 0.4064 - binary_crossentropy: 0.3999 - accuracy: 0.8132 - auc: 0.8845 - val_loss: 0.4251 - val_binary_crossentropy: 0.4182 - val_accuracy: 0.8048 - val_auc: 0.8710\n",
      "Epoch 9/20\n",
      "4144/4144 - 14s - loss: 0.4050 - binary_crossentropy: 0.3977 - accuracy: 0.8142 - auc: 0.8857 - val_loss: 0.4252 - val_binary_crossentropy: 0.4176 - val_accuracy: 0.8053 - val_auc: 0.8717\n",
      "Epoch 10/20\n",
      "4144/4144 - 15s - loss: 0.4033 - binary_crossentropy: 0.3953 - accuracy: 0.8157 - auc: 0.8871 - val_loss: 0.4269 - val_binary_crossentropy: 0.4186 - val_accuracy: 0.8058 - val_auc: 0.8710\n",
      "Epoch 11/20\n",
      "4144/4144 - 14s - loss: 0.4012 - binary_crossentropy: 0.3926 - accuracy: 0.8177 - auc: 0.8887 - val_loss: 0.4270 - val_binary_crossentropy: 0.4181 - val_accuracy: 0.8076 - val_auc: 0.8731\n",
      "Epoch 12/20\n",
      "4144/4144 - 15s - loss: 0.3991 - binary_crossentropy: 0.3899 - accuracy: 0.8196 - auc: 0.8904 - val_loss: 0.4269 - val_binary_crossentropy: 0.4175 - val_accuracy: 0.8078 - val_auc: 0.8731\n",
      "Epoch 13/20\n",
      "4144/4144 - 15s - loss: 0.3963 - binary_crossentropy: 0.3866 - accuracy: 0.8218 - auc: 0.8924 - val_loss: 0.4271 - val_binary_crossentropy: 0.4171 - val_accuracy: 0.8093 - val_auc: 0.8736\n",
      "Epoch 14/20\n",
      "4144/4144 - 14s - loss: 0.3934 - binary_crossentropy: 0.3831 - accuracy: 0.8241 - auc: 0.8946 - val_loss: 0.4275 - val_binary_crossentropy: 0.4170 - val_accuracy: 0.8089 - val_auc: 0.8737\n",
      "Epoch 15/20\n",
      "4144/4144 - 15s - loss: 0.3899 - binary_crossentropy: 0.3792 - accuracy: 0.8270 - auc: 0.8968 - val_loss: 0.4250 - val_binary_crossentropy: 0.4141 - val_accuracy: 0.8102 - val_auc: 0.8749\n",
      "Epoch 16/20\n",
      "4144/4144 - 15s - loss: 0.3869 - binary_crossentropy: 0.3757 - accuracy: 0.8290 - auc: 0.8990 - val_loss: 0.4259 - val_binary_crossentropy: 0.4145 - val_accuracy: 0.8113 - val_auc: 0.8757\n",
      "Epoch 17/20\n",
      "4144/4144 - 15s - loss: 0.3837 - binary_crossentropy: 0.3721 - accuracy: 0.8312 - auc: 0.9012 - val_loss: 0.4288 - val_binary_crossentropy: 0.4170 - val_accuracy: 0.8113 - val_auc: 0.8759\n",
      "Epoch 18/20\n",
      "4144/4144 - 15s - loss: 0.3809 - binary_crossentropy: 0.3689 - accuracy: 0.8327 - auc: 0.9031 - val_loss: 0.4279 - val_binary_crossentropy: 0.4157 - val_accuracy: 0.8132 - val_auc: 0.8773\n",
      "Epoch 19/20\n",
      "4144/4144 - 15s - loss: 0.3778 - binary_crossentropy: 0.3654 - accuracy: 0.8347 - auc: 0.9052 - val_loss: 0.4259 - val_binary_crossentropy: 0.4134 - val_accuracy: 0.8138 - val_auc: 0.8775\n",
      "Epoch 20/20\n",
      "4144/4144 - 14s - loss: 0.3747 - binary_crossentropy: 0.3619 - accuracy: 0.8365 - auc: 0.9073 - val_loss: 0.4290 - val_binary_crossentropy: 0.4162 - val_accuracy: 0.8139 - val_auc: 0.8777\n",
      "test MSE 0.1333\n"
     ]
    }
   ],
   "source": [
    "model = DeepFM(linear_feature_columns, dnn_feature_columns, task='binary')\n",
    "model\n",
    "model.compile(\"adam\", \"binary_crossentropy\", metrics=['binary_crossentropy','accuracy','AUC'], )\n",
    "\n",
    "history = model.fit(train_model_input, train[target].values,\n",
    "                    batch_size=100, epochs=20, verbose=2, validation_split=0.2, )\n",
    "pred_ans = model.predict(test_model_input, batch_size=256)\n",
    "print(\"test MSE\", round(mean_squared_error(\n",
    "    test[target].values, pred_ans), 4))"
   ]
  },
  {
   "cell_type": "code",
   "execution_count": 17,
   "id": "cc082d76",
   "metadata": {},
   "outputs": [
    {
     "name": "stderr",
     "output_type": "stream",
     "text": [
      "WARNING:absl:Found untraced functions such as dropout_layer_call_and_return_conditional_losses, dropout_layer_call_fn, dropout_1_layer_call_and_return_conditional_losses, dropout_1_layer_call_fn, dropout_2_layer_call_and_return_conditional_losses while saving (showing 5 of 12). These functions will not be directly callable after loading.\n"
     ]
    },
    {
     "name": "stdout",
     "output_type": "stream",
     "text": [
      "INFO:tensorflow:Assets written to: savedmodel/assets\n"
     ]
    },
    {
     "name": "stderr",
     "output_type": "stream",
     "text": [
      "INFO:tensorflow:Assets written to: savedmodel/assets\n"
     ]
    },
    {
     "name": "stdout",
     "output_type": "stream",
     "text": [
      "Model saved.\n"
     ]
    },
    {
     "name": "stderr",
     "output_type": "stream",
     "text": [
      "C:\\Users\\Image\\anaconda3\\lib\\site-packages\\tensorflow\\python\\keras\\utils\\generic_utils.py:494: CustomMaskWarning: Custom mask layers require a config and must override get_config. When loading, the custom mask layer must be passed to the custom_objects argument.\n",
      "  warnings.warn('Custom mask layers require a config and must override '\n"
     ]
    }
   ],
   "source": [
    "# Save the model\n",
    "model.save(\"savedmodel/\")\n",
    "\n",
    "print(\"Model saved.\")"
   ]
  },
  {
   "cell_type": "code",
   "execution_count": 18,
   "id": "eee86656",
   "metadata": {},
   "outputs": [
    {
     "data": {
      "text/plain": [
       "array([0.99853265], dtype=float32)"
      ]
     },
     "execution_count": 18,
     "metadata": {},
     "output_type": "execute_result"
    }
   ],
   "source": [
    "pred_ans[132]"
   ]
  },
  {
   "cell_type": "markdown",
   "id": "7227118c",
   "metadata": {},
   "source": [
    "## For making predictions"
   ]
  },
  {
   "cell_type": "code",
   "execution_count": 19,
   "id": "8558235e",
   "metadata": {},
   "outputs": [],
   "source": [
    "# # Make predictions\n",
    "\n",
    "# # Generate input data for the new data\n",
    "# new_data_input = {name: new_data[name].values for name in feature_names}\n",
    "\n",
    "# # Make predictions\n",
    "# predictions = model.predict(new_data_input)\n",
    "\n",
    "# # Print the predictions\n",
    "# print(predictions)"
   ]
  },
  {
   "cell_type": "code",
   "execution_count": null,
   "id": "7f9f1996",
   "metadata": {},
   "outputs": [],
   "source": []
  }
 ],
 "metadata": {
  "kernelspec": {
   "display_name": "Python 3 (ipykernel)",
   "language": "python",
   "name": "python3"
  },
  "language_info": {
   "codemirror_mode": {
    "name": "ipython",
    "version": 3
   },
   "file_extension": ".py",
   "mimetype": "text/x-python",
   "name": "python",
   "nbconvert_exporter": "python",
   "pygments_lexer": "ipython3",
   "version": "3.9.16"
  }
 },
 "nbformat": 4,
 "nbformat_minor": 5
}
